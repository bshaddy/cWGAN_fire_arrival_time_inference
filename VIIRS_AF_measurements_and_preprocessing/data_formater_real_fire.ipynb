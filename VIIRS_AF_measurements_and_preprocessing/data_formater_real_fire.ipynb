{
 "cells": [
  {
   "cell_type": "code",
   "execution_count": 1,
   "id": "b31ff980",
   "metadata": {},
   "outputs": [],
   "source": [
    "import numpy as np\n",
    "import scipy.io as sio\n",
    "import os\n",
    "import matplotlib.pyplot as plt"
   ]
  },
  {
   "cell_type": "markdown",
   "id": "c275aa64",
   "metadata": {},
   "source": [
    "enter fire name and confidence levels for measurement:"
   ]
  },
  {
   "cell_type": "code",
   "execution_count": 2,
   "id": "17aeed13",
   "metadata": {},
   "outputs": [],
   "source": [
    "fire_name = 'Bobcat'\n",
    "confidence_level = 'high'"
   ]
  },
  {
   "cell_type": "markdown",
   "id": "d65cfc96",
   "metadata": {},
   "source": [
    "Put into proper format for cGWAN:"
   ]
  },
  {
   "cell_type": "code",
   "execution_count": 3,
   "id": "05ff4c12",
   "metadata": {},
   "outputs": [],
   "source": [
    "pairwise_data_test = np.zeros((1,512,512,2), dtype=np.float32)\n",
    "\n",
    "fire_arrival_time_map = np.zeros((512,512), dtype=np.float32)\n",
    "upsampled_measurement = np.zeros((512,512), dtype=np.float32)\n",
    "\n",
    "upsampled_measurement = sio.loadmat(f'{fire_name}/{confidence_level}_confidence_measurement_from_SOD.mat')['measurement']\n",
    "        \n",
    "pairwise_data_test[0,:,:,0] = fire_arrival_time_map\n",
    "pairwise_data_test[0,:,:,1] = upsampled_measurement"
   ]
  },
  {
   "cell_type": "markdown",
   "id": "7e75e681",
   "metadata": {},
   "source": [
    "save as .npy file:"
   ]
  },
  {
   "cell_type": "code",
   "execution_count": 4,
   "id": "5806b567",
   "metadata": {},
   "outputs": [],
   "source": [
    "np.save(f'{fire_name}/{confidence_level}_confidence_{fire_name}_SOD.npy',pairwise_data_test)"
   ]
  },
  {
   "cell_type": "markdown",
   "id": "8aac7513",
   "metadata": {},
   "source": [
    "plot measurment image:"
   ]
  },
  {
   "cell_type": "code",
   "execution_count": 5,
   "id": "5dc0adf0",
   "metadata": {},
   "outputs": [
    {
     "data": {
      "text/plain": [
       "<matplotlib.image.AxesImage at 0x22a687d7010>"
      ]
     },
     "execution_count": 5,
     "metadata": {},
     "output_type": "execute_result"
    },
    {
     "data": {
      "image/png": "[encoded data removed]",
      "text/plain": [
       "<Figure size 640x480 with 1 Axes>"
      ]
     },
     "metadata": {},
     "output_type": "display_data"
    }
   ],
   "source": [
    "plt.imshow(pairwise_data_test[0,:,:,1])"
   ]
  }
 ],
 "metadata": {
  "kernelspec": {
   "display_name": "Python 3",
   "language": "python",
   "name": "python3"
  },
  "language_info": {
   "codemirror_mode": {
    "name": "ipython",
    "version": 3
   },
   "file_extension": ".py",
   "mimetype": "text/x-python",
   "name": "python",
   "nbconvert_exporter": "python",
   "pygments_lexer": "ipython3",
   "version": "3.10.11"
  },
  "vscode": {
   "interpreter": {
    "hash": "78e5a8b15c838ce051d1e41ab8a3cc0f82aed7f68ccac712de6232afba7be704"
   }
  }
 },
 "nbformat": 4,
 "nbformat_minor": 5
}
