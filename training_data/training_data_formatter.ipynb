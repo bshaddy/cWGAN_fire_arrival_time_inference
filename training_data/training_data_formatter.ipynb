{
 "cells": [
  {
   "cell_type": "code",
   "execution_count": 1,
   "id": "9202b36d",
   "metadata": {},
   "outputs": [],
   "source": [
    "import numpy as np\n",
    "import scipy.io as sio\n",
    "import matplotlib.pyplot as plt\n",
    "import os"
   ]
  },
  {
   "cell_type": "markdown",
   "id": "fe895ce6",
   "metadata": {},
   "source": [
    "Load filenames for the augmented fire arrival time maps and associated measurements produced by MATLAB script training_data_generation.m:"
   ]
  },
  {
   "cell_type": "code",
   "execution_count": 2,
   "id": "cf99fdd6",
   "metadata": {},
   "outputs": [],
   "source": [
    "filenames_x = os.listdir('augmented_fire_arrival_time_maps/')\n",
    "filenames_y = os.listdir('augmented_fire_arrival_time_maps/')\n",
    "\n",
    "for k in range(10000):\n",
    "    filenames_y[k] = filenames_x[k] + '_measurement_upsampled'"
   ]
  },
  {
   "cell_type": "markdown",
   "id": "fdc42a73",
   "metadata": {},
   "source": [
    "Preallocate variables to put fire arrival time maps and measurements into:"
   ]
  },
  {
   "cell_type": "code",
   "execution_count": 3,
   "id": "c4534f9e",
   "metadata": {},
   "outputs": [],
   "source": [
    "N_train = 8000\n",
    "N_test = 2000\n",
    "N_total = N_train + N_test\n",
    "pairwise_data_train = np.zeros((N_train,512,512,2), dtype=np.float32)\n",
    "pairwise_data_test = np.zeros((N_test,512,512,2), dtype=np.float32)"
   ]
  },
  {
   "cell_type": "markdown",
   "id": "67923844",
   "metadata": {},
   "source": [
    "Format fire arrival time maps and measurements for cWGAN training:"
   ]
  },
  {
   "cell_type": "code",
   "execution_count": 4,
   "id": "05ff4c12",
   "metadata": {},
   "outputs": [],
   "source": [
    "for k in range(N_total):\n",
    "    fire_arrival_time_map = sio.loadmat('augmented_fire_arrival_time_maps/' + filenames_x[k])['fire_arrival_time_map']\n",
    "    fire_arrival_time_map = fire_arrival_time_map/np.max(fire_arrival_time_map)\n",
    "    \n",
    "    upsampled_measurement = sio.loadmat('augmented_fire_arrival_time_map_measurements/' + filenames_y[k])['upsampled_measurement']\n",
    "    upsampled_measurement = upsampled_measurement/np.max(upsampled_measurement)\n",
    "        \n",
    "    if k < N_train:\n",
    "        pairwise_data_train[k,:,:,0] = fire_arrival_time_map\n",
    "        pairwise_data_train[k,:,:,1] = upsampled_measurement\n",
    "    else:\n",
    "        pairwise_data_test[k-8000,:,:,0] = fire_arrival_time_map\n",
    "        pairwise_data_test[k-8000,:,:,1] = upsampled_measurement"
   ]
  },
  {
   "cell_type": "markdown",
   "id": "0db61a67",
   "metadata": {},
   "source": [
    "Save training and testing data files:"
   ]
  },
  {
   "cell_type": "code",
   "execution_count": 5,
   "id": "5806b567",
   "metadata": {},
   "outputs": [],
   "source": [
    "np.save('final_training_and_testing_datasets/training_data.npy', pairwise_data_train)\n",
    "np.save('final_training_and_testing_datasets/testing_data.npy',pairwise_data_test)"
   ]
  }
 ],
 "metadata": {
  "kernelspec": {
   "display_name": "Python 3",
   "language": "python",
   "name": "python3"
  },
  "language_info": {
   "codemirror_mode": {
    "name": "ipython",
    "version": 3
   },
   "file_extension": ".py",
   "mimetype": "text/x-python",
   "name": "python",
   "nbconvert_exporter": "python",
   "pygments_lexer": "ipython3",
   "version": "3.10.11"
  },
  "vscode": {
   "interpreter": {
    "hash": "78e5a8b15c838ce051d1e41ab8a3cc0f82aed7f68ccac712de6232afba7be704"
   }
  }
 },
 "nbformat": 4,
 "nbformat_minor": 5
}
