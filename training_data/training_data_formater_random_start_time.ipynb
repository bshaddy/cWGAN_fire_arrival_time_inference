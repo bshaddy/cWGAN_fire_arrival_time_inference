{
 "cells": [
  {
   "cell_type": "code",
   "execution_count": 1,
   "id": "9202b36d",
   "metadata": {},
   "outputs": [],
   "source": [
    "import numpy as np\n",
    "import scipy.io as sio\n",
    "import matplotlib.pyplot as plt\n",
    "import os\n",
    "from scipy import stats"
   ]
  },
  {
   "cell_type": "markdown",
   "id": "792ccf49",
   "metadata": {},
   "source": [
    "Load training data files produced by training_data_formatter.ipynb:"
   ]
  },
  {
   "cell_type": "code",
   "execution_count": 2,
   "id": "fe171db5",
   "metadata": {},
   "outputs": [],
   "source": [
    "training = np.load('final_training_and_testing_datasets/training_data.npy')\n",
    "testing = np.load('final_training_and_testing_datasets/testing_data.npy')"
   ]
  },
  {
   "cell_type": "markdown",
   "id": "98a526be",
   "metadata": {},
   "source": [
    "Add random amount of time chosen from uniform distribution between 0 and 24 hours to fire arrival time maps and measurements to simulate unknown ignition time, then normalize and make sure background value is set to 1:"
   ]
  },
  {
   "cell_type": "code",
   "execution_count": 3,
   "id": "50427348",
   "metadata": {},
   "outputs": [],
   "source": [
    "for k in range(training.shape[0]):\n",
    "    training[k,:,:,:] = (training[k,:,:,:] - np.min(training[k,:,:,:])) / (np.max(training[k,:,:,:]) - np.min(training[k,:,:,:]))\n",
    "    training[k,:,:,:] += 0.5*np.random.rand(1)\n",
    "    training[k,:,:,:] /= 1.5\n",
    "    background = stats.mode(training[k,:,:,0],axis=None,keepdims=False)\n",
    "    training[k,:,:,0][training[k,:,:,0]==background[0]] = 1.\n",
    "    background = stats.mode(training[k,:,:,1],axis=None,keepdims=False)\n",
    "    training[k,:,:,1][training[k,:,:,1]==background[0]] = 1.\n",
    "    \n",
    "    if k < testing.shape[0]:\n",
    "        testing[k,:,:,:] = (testing[k,:,:,:] - np.min(testing[k,:,:,:])) / (np.max(testing[k,:,:,:]) - np.min(testing[k,:,:,:]))\n",
    "        testing[k,:,:,:] += 0.5*np.random.rand(1)\n",
    "        testing[k,:,:,:] /= 1.5\n",
    "        background = stats.mode(testing[k,:,:,0],axis=None,keepdims=False)\n",
    "        testing[k,:,:,0][testing[k,:,:,0]==background[0]] = 1.\n",
    "        background = stats.mode(testing[k,:,:,1],axis=None,keepdims=False)\n",
    "        testing[k,:,:,1][testing[k,:,:,1]==background[0]] = 1.        "
   ]
  },
  {
   "cell_type": "markdown",
   "id": "dc323d9c",
   "metadata": {},
   "source": [
    "Save training and testing data files:"
   ]
  },
  {
   "cell_type": "code",
   "execution_count": 4,
   "id": "5806b567",
   "metadata": {},
   "outputs": [],
   "source": [
    "np.save('final_training_and_testing_datasets/training_data_random_start.npy', training)\n",
    "np.save('final_training_and_testing_datasets/testing_data_random_start.npy',testing)"
   ]
  }
 ],
 "metadata": {
  "kernelspec": {
   "display_name": "Python 3",
   "language": "python",
   "name": "python3"
  },
  "language_info": {
   "codemirror_mode": {
    "name": "ipython",
    "version": 3
   },
   "file_extension": ".py",
   "mimetype": "text/x-python",
   "name": "python",
   "nbconvert_exporter": "python",
   "pygments_lexer": "ipython3",
   "version": "3.10.11"
  },
  "vscode": {
   "interpreter": {
    "hash": "78e5a8b15c838ce051d1e41ab8a3cc0f82aed7f68ccac712de6232afba7be704"
   }
  }
 },
 "nbformat": 4,
 "nbformat_minor": 5
}
